{
  "cells": [
    {
      "cell_type": "code",
      "execution_count": null,
      "metadata": {
        "colab": {},
        "colab_type": "code",
        "id": "M1ehwqoXCR2T"
      },
      "outputs": [],
      "source": [
        "# Perform standard imports:\n",
        "import spacy\n",
        "nlp = spacy.load('en_core_web_sm')"
      ]
    },
    {
      "cell_type": "code",
      "execution_count": null,
      "metadata": {
        "colab": {
          "base_uri": "https://localhost:8080/",
          "height": 68
        },
        "colab_type": "code",
        "id": "0PZAtJwgCVNo",
        "outputId": "4e8ebdf7-d0bd-4c4f-ec70-e14a138936d0"
      },
      "outputs": [
        {
          "name": "stdout",
          "output_type": "stream",
          "text": [
            "[nltk_data] Downloading package stopwords to /root/nltk_data...\n",
            "[nltk_data]   Unzipping corpora/stopwords.zip.\n"
          ]
        },
        {
          "data": {
            "text/plain": [
              "True"
            ]
          },
          "execution_count": 2,
          "metadata": {
            "tags": []
          },
          "output_type": "execute_result"
        }
      ],
      "source": [
        "import nltk\n",
        "nltk.download('stopwords')"
      ]
    },
    {
      "cell_type": "code",
      "execution_count": null,
      "metadata": {
        "colab": {
          "base_uri": "https://localhost:8080/",
          "height": 54
        },
        "colab_type": "code",
        "id": "O3drpJkBCR2Z",
        "outputId": "164d75d1-7e89-4b18-f9b5-f607d7abc6aa"
      },
      "outputs": [
        {
          "name": "stdout",
          "output_type": "stream",
          "text": [
            "{'say', \"'re\", 'various', 'anything', '‘ll', 'well', 'same', 'afterwards', 'ours', 'meanwhile', 'only', 'though', 'him', 'onto', 'there', 'they', 'by', 'least', 'put', 'however', 'ca', 'thereupon', 'nobody', 'every', 'already', 'is', 'now', 'rather', 'top', 'where', 'never', 'fifteen', 'thus', 'mine', 'eight', 'hereby', 'herein', 'eleven', 'if', 'across', 'go', 'move', 'someone', 'although', 'without', 'how', 'out', 'five', 'beside', 'empty', 'will', 'whereby', 'former', 'amount', 'make', 'you', 'these', 'all', 'everything', 'some', 'not', 'seem', 'fifty', 'therefore', 'done', 'alone', 'beforehand', 'himself', 'yours', 'i', 'on', 'yourself', 'call', 'none', 'many', '‘d', 'six', 'another', '’s', 'am', 'four', 'most', 'could', 'again', 'themselves', 'were', 'than', 'seemed', 'therein', 'along', 'was', 'whereupon', 'with', \"n't\", 'just', 'n‘t', '‘ve', 'their', 'less', '’ve', 'down', 'when', 'what', 'anyone', 'over', 'around', \"'ve\", 'except', 'me', 'always', 'against', 'something', 'whereas', 'part', 'his', 'front', 'before', 'toward', 'amongst', 'really', 'about', 'because', 'being', 'doing', 'nor', 'upon', '‘s', 'itself', 'first', 'herself', 'somewhere', 'due', 'does', 'others', 'thru', 'see', 'below', 'very', 'into', 'ever', 'nowhere', 'get', 'latter', 'name', 'other', 'regarding', 'twelve', 'enough', 'via', 'much', 'hereafter', 'and', 'once', 'everywhere', 'latterly', 'sometimes', 'whose', 'this', 'two', 'towards', 'nevertheless', \"'ll\", '’m', 'become', 'whom', 'else', 'throughout', 'are', 'take', 'within', 'each', 'under', 'one', 'or', 'can', 'such', 'own', 'as', 'give', 'that', '‘m', 'which', \"'m\", 'have', 'while', 'too', 'thereafter', 'becomes', 'behind', 'up', 'until', 'our', 'but', 'why', 'both', 'must', 'the', 'hers', 'yet', 'did', 'bottom', 'forty', 'otherwise', 'seeming', 'a', 'beyond', 'ten', 'nothing', 'third', '’d', 'of', 'yourselves', 'at', '’re', 'moreover', 'using', 'whereafter', 'through', 'do', 'during', 'anyway', 'hence', 'sometime', 'has', 'show', 'three', \"'d\", 'your', 'her', 'next', 'cannot', 'here', 'been', 'us', 'between', 'whether', 'from', 'would', 'becoming', 'those', 'used', 'became', 'ourselves', 'elsewhere', 'to', 'in', 'neither', 'side', 'no', 'them', 'unless', 'whoever', 'any', 'keep', 'often', 'hundred', 're', 'he', 'thereby', 'back', 'we', 'who', 'whole', 'n’t', 'myself', 'still', 'noone', 'might', \"'s\", 'be', 'indeed', 'together', 'further', 'should', 'also', 'among', 'thence', 'made', 'since', 'perhaps', 'sixty', 'several', 'please', 'whenever', 'few', 'whither', 'had', 'last', 'more', 'my', 'its', 'nine', 'whence', 'whatever', 'hereupon', 'mostly', 'namely', 'so', 'anywhere', 'she', 'above', 'for', 'almost', 'seems', 'then', 'an', '’ll', 'it', 'may', 'quite', 'serious', 'besides', 'twenty', 'formerly', '‘re', 'wherein', 'somehow', 'even', 'wherever', 'off', 'either', 'per', 'after', 'everyone', 'full', 'anyhow'}\n"
          ]
        }
      ],
      "source": [
        "# Print the set of spaCy's default stop words (remember that sets are unordered):\n",
        "print(nlp.Defaults.stop_words)"
      ]
    },
    {
      "cell_type": "code",
      "execution_count": null,
      "metadata": {
        "colab": {
          "base_uri": "https://localhost:8080/",
          "height": 34
        },
        "colab_type": "code",
        "id": "diWTTaRICR2g",
        "outputId": "ec779a00-2e5b-43e9-b526-721cfa755ad1"
      },
      "outputs": [
        {
          "data": {
            "text/plain": [
              "326"
            ]
          },
          "execution_count": 4,
          "metadata": {
            "tags": []
          },
          "output_type": "execute_result"
        }
      ],
      "source": [
        "len(nlp.Defaults.stop_words)"
      ]
    },
    {
      "cell_type": "markdown",
      "metadata": {
        "colab_type": "text",
        "id": "tWu19KsbCR2k"
      },
      "source": [
        "## To see if a word is a stop word"
      ]
    },
    {
      "cell_type": "code",
      "execution_count": null,
      "metadata": {
        "colab": {
          "base_uri": "https://localhost:8080/",
          "height": 34
        },
        "colab_type": "code",
        "id": "Sxj_JjAdCR2k",
        "outputId": "2fbdde00-9d43-42d9-b438-83dbf1040055"
      },
      "outputs": [
        {
          "data": {
            "text/plain": [
              "True"
            ]
          },
          "execution_count": 5,
          "metadata": {
            "tags": []
          },
          "output_type": "execute_result"
        }
      ],
      "source": [
        "nlp.vocab['myself'].is_stop"
      ]
    },
    {
      "cell_type": "code",
      "execution_count": null,
      "metadata": {
        "colab": {
          "base_uri": "https://localhost:8080/",
          "height": 34
        },
        "colab_type": "code",
        "id": "Ep_V7bnOCR2o",
        "outputId": "aee5a5df-1185-4533-cda7-44dccdcddb8f"
      },
      "outputs": [
        {
          "data": {
            "text/plain": [
              "False"
            ]
          },
          "execution_count": 6,
          "metadata": {
            "tags": []
          },
          "output_type": "execute_result"
        }
      ],
      "source": [
        "nlp.vocab['mystery'].is_stop"
      ]
    },
    {
      "cell_type": "code",
      "execution_count": null,
      "metadata": {
        "colab": {},
        "colab_type": "code",
        "id": "U1vIs64dCR2t"
      },
      "outputs": [],
      "source": [
        "# Add the word to the set of stop words. Use lowercase!\n",
        "nlp.Defaults.stop_words.add('mystery')"
      ]
    },
    {
      "cell_type": "code",
      "execution_count": null,
      "metadata": {
        "colab": {},
        "colab_type": "code",
        "id": "SQnVv6JEiqHC"
      },
      "outputs": [],
      "source": [
        "# Set the stop_word tag on the lexeme\n",
        "nlp.vocab['mystery'].is_stop = True"
      ]
    },
    {
      "cell_type": "code",
      "execution_count": null,
      "metadata": {
        "colab": {
          "base_uri": "https://localhost:8080/",
          "height": 34
        },
        "colab_type": "code",
        "id": "IO-WF_1mCR2x",
        "outputId": "5182d797-f8b1-47b4-c384-2d823b415699"
      },
      "outputs": [
        {
          "data": {
            "text/plain": [
              "327"
            ]
          },
          "execution_count": 9,
          "metadata": {
            "tags": []
          },
          "output_type": "execute_result"
        }
      ],
      "source": [
        "len(nlp.Defaults.stop_words)"
      ]
    },
    {
      "cell_type": "code",
      "execution_count": null,
      "metadata": {
        "colab": {
          "base_uri": "https://localhost:8080/",
          "height": 34
        },
        "colab_type": "code",
        "id": "oMMCzOUACR21",
        "outputId": "8e8ae166-3a1f-46b9-b60c-d5a13f4deca4"
      },
      "outputs": [
        {
          "data": {
            "text/plain": [
              "True"
            ]
          },
          "execution_count": 10,
          "metadata": {
            "tags": []
          },
          "output_type": "execute_result"
        }
      ],
      "source": [
        "nlp.vocab['mystery'].is_stop"
      ]
    },
    {
      "cell_type": "markdown",
      "metadata": {
        "colab_type": "text",
        "id": "p58rPB42CR24"
      },
      "source": [
        "## To remove a stop word\n",
        "Alternatively, you may decide that `'beyond'` should not be considered a stop word."
      ]
    },
    {
      "cell_type": "code",
      "execution_count": null,
      "metadata": {
        "colab": {},
        "colab_type": "code",
        "id": "0KEtYBNRCR25"
      },
      "outputs": [],
      "source": [
        "# Remove the word from the set of stop words\n",
        "nlp.Defaults.stop_words.remove('beyond')\n",
        "\n",
        "# Remove the stop_word tag from the lexeme\n",
        "nlp.vocab['beyond'].is_stop = False"
      ]
    },
    {
      "cell_type": "code",
      "execution_count": null,
      "metadata": {
        "colab": {
          "base_uri": "https://localhost:8080/",
          "height": 34
        },
        "colab_type": "code",
        "id": "iQr5IK3CCR28",
        "outputId": "a4f3f68a-6268-4ed1-c262-f870b2bd369c"
      },
      "outputs": [
        {
          "data": {
            "text/plain": [
              "326"
            ]
          },
          "execution_count": 12,
          "metadata": {
            "tags": []
          },
          "output_type": "execute_result"
        }
      ],
      "source": [
        "len(nlp.Defaults.stop_words)"
      ]
    },
    {
      "cell_type": "code",
      "execution_count": null,
      "metadata": {
        "colab": {
          "base_uri": "https://localhost:8080/",
          "height": 34
        },
        "colab_type": "code",
        "id": "ZLnWlnDQCR2_",
        "outputId": "019a669d-b077-4289-f567-5df00fbcb4d3"
      },
      "outputs": [
        {
          "data": {
            "text/plain": [
              "False"
            ]
          },
          "execution_count": 13,
          "metadata": {
            "tags": []
          },
          "output_type": "execute_result"
        }
      ],
      "source": [
        "nlp.vocab['beyond'].is_stop"
      ]
    },
    {
      "cell_type": "code",
      "execution_count": null,
      "metadata": {
        "colab": {
          "base_uri": "https://localhost:8080/",
          "height": 51
        },
        "colab_type": "code",
        "id": "TCyp1UmXCxgJ",
        "outputId": "3ea34f16-1f46-4b5a-b25e-d9d720a9debc"
      },
      "outputs": [
        {
          "name": "stdout",
          "output_type": "stream",
          "text": [
            "[nltk_data] Downloading package punkt to /root/nltk_data...\n",
            "[nltk_data]   Unzipping tokenizers/punkt.zip.\n"
          ]
        }
      ],
      "source": [
        "import string\n",
        "import re\n",
        "import nltk\n",
        "nltk.download('punkt')\n",
        "from nltk import word_tokenize,sent_tokenize\n",
        "from nltk.corpus import stopwords\n",
        "# load data\n",
        "text = 'The Quick brown fox jump over the lazy dog!'"
      ]
    },
    {
      "cell_type": "code",
      "execution_count": null,
      "metadata": {
        "colab": {
          "base_uri": "https://localhost:8080/",
          "height": 34
        },
        "colab_type": "code",
        "id": "pehkONOeDPd-",
        "outputId": "f65a8bd5-7adf-4f49-b4e5-a191f4378f16"
      },
      "outputs": [
        {
          "name": "stdout",
          "output_type": "stream",
          "text": [
            "['The', 'Quick', 'brown', 'fox', 'jump', 'over', 'the', 'lazy', 'dog', '!']\n"
          ]
        }
      ],
      "source": [
        "# split into words\n",
        "tokens = word_tokenize(text)\n",
        "print(tokens)"
      ]
    },
    {
      "cell_type": "code",
      "execution_count": null,
      "metadata": {
        "colab": {
          "base_uri": "https://localhost:8080/",
          "height": 34
        },
        "colab_type": "code",
        "id": "K0zTYJKID--l",
        "outputId": "2aadf62e-6504-43d6-f9db-a62d16c59c00"
      },
      "outputs": [
        {
          "name": "stdout",
          "output_type": "stream",
          "text": [
            "['the', 'quick', 'brown', 'fox', 'jump', 'over', 'the', 'lazy', 'dog', '!']\n"
          ]
        }
      ],
      "source": [
        "# convert to lower case\n",
        "tokens = [w.lower() for w in tokens]\n",
        "print(tokens)"
      ]
    },
    {
      "cell_type": "code",
      "execution_count": null,
      "metadata": {
        "colab": {
          "base_uri": "https://localhost:8080/",
          "height": 34
        },
        "colab_type": "code",
        "id": "PXAJpO5hEEcj",
        "outputId": "2f5afa33-d27f-4a47-8112-770cd7a2da8d"
      },
      "outputs": [
        {
          "name": "stdout",
          "output_type": "stream",
          "text": [
            "re.compile('[\\\\!\\\\\"\\\\#\\\\$\\\\%\\\\&\\\\\\'\\\\(\\\\)\\\\*\\\\+\\\\,\\\\-\\\\.\\\\/\\\\:\\\\;\\\\<\\\\=\\\\>\\\\?\\\\@\\\\[\\\\\\\\\\\\]\\\\^_\\\\`\\\\{\\\\|\\\\}\\\\~]')\n"
          ]
        }
      ],
      "source": [
        "# prepare regex for char filtering\n",
        "re_punc = re.compile('[%s]' % re.escape(string.punctuation))\n",
        "print(re_punc)"
      ]
    },
    {
      "cell_type": "code",
      "execution_count": null,
      "metadata": {
        "colab": {
          "base_uri": "https://localhost:8080/",
          "height": 34
        },
        "colab_type": "code",
        "id": "IRupmyA-EF7z",
        "outputId": "57187a4f-2fb1-4500-e194-227f377a05f3"
      },
      "outputs": [
        {
          "name": "stdout",
          "output_type": "stream",
          "text": [
            "['the', 'quick', 'brown', 'fox', 'jump', 'over', 'the', 'lazy', 'dog', '']\n"
          ]
        }
      ],
      "source": [
        "# remove punctuation from each word\n",
        "stripped = [re_punc.sub('', w) for w in tokens]\n",
        "print(stripped)"
      ]
    },
    {
      "cell_type": "code",
      "execution_count": null,
      "metadata": {
        "colab": {
          "base_uri": "https://localhost:8080/",
          "height": 34
        },
        "colab_type": "code",
        "id": "c0__AkhWEHPT",
        "outputId": "5d8bf427-19e9-47a0-c269-31d4ce85f49e"
      },
      "outputs": [
        {
          "name": "stdout",
          "output_type": "stream",
          "text": [
            "['the', 'quick', 'brown', 'fox', 'jump', 'over', 'the', 'lazy', 'dog']\n"
          ]
        }
      ],
      "source": [
        "# remove remaining tokens that are not alphabetic\n",
        "words = [word for word in stripped if word.isalpha()]\n",
        "print(words)"
      ]
    },
    {
      "cell_type": "code",
      "execution_count": null,
      "metadata": {
        "colab": {
          "base_uri": "https://localhost:8080/",
          "height": 34
        },
        "colab_type": "code",
        "id": "6WYqyINsEIhD",
        "outputId": "1917537b-051f-43e8-bb76-6d741163eecf"
      },
      "outputs": [
        {
          "name": "stdout",
          "output_type": "stream",
          "text": [
            "['quick', 'brown', 'fox', 'jump', 'lazy', 'dog']\n"
          ]
        }
      ],
      "source": [
        "# filter out non-stop words\n",
        "stop_words = set(stopwords.words('english'))\n",
        "words = [w for w in words if not w in stop_words]\n",
        "print(words)"
      ]
    },
    {
      "cell_type": "code",
      "execution_count": null,
      "metadata": {
        "colab": {
          "base_uri": "https://localhost:8080/",
          "height": 34
        },
        "colab_type": "code",
        "id": "2DdtvLMggo4P",
        "outputId": "e32cca62-64b8-4b6a-8479-330e2b485d90"
      },
      "outputs": [
        {
          "data": {
            "text/plain": [
              "False"
            ]
          },
          "execution_count": 26,
          "metadata": {
            "tags": []
          },
          "output_type": "execute_result"
        }
      ],
      "source": [
        "nlp.vocab['dog'].is_stop"
      ]
    },
    {
      "cell_type": "code",
      "execution_count": null,
      "metadata": {
        "colab": {},
        "colab_type": "code",
        "id": "khKxrWYhgp1P"
      },
      "outputs": [],
      "source": []
    }
  ],
  "metadata": {
    "colab": {
      "collapsed_sections": [],
      "name": "StopWords_FahadHussainCS.ipynb",
      "provenance": []
    },
    "kernelspec": {
      "display_name": "Python 3",
      "language": "python",
      "name": "python3"
    },
    "language_info": {
      "codemirror_mode": {
        "name": "ipython",
        "version": 3
      },
      "file_extension": ".py",
      "mimetype": "text/x-python",
      "name": "python",
      "nbconvert_exporter": "python",
      "pygments_lexer": "ipython3",
      "version": "3.6.7"
    }
  },
  "nbformat": 4,
  "nbformat_minor": 0
}
